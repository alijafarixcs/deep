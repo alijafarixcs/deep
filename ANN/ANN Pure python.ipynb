{
 "cells": [
  {
   "cell_type": "code",
   "execution_count": 73,
   "metadata": {},
   "outputs": [],
   "source": [
    "import numpy as np\n",
    "import pandas as pd\n",
    "import matplotlib.pyplot as plt\n",
    "%matplotlib inline \n",
    "from sklearn.datasets import load_iris"
   ]
  },
  {
   "cell_type": "code",
   "execution_count": 74,
   "metadata": {},
   "outputs": [],
   "source": [
    "\n",
    "\n",
    "def load_iris_def():\n",
    "    # Load the iris dataset\n",
    "    iris = load_iris()\n",
    "\n",
    "    # Convert to a pandas DataFrame\n",
    "    iris_df = pd.DataFrame(data=iris.data, columns=iris.feature_names)\n",
    "    iris_df['species'] = iris.target\n",
    "\n",
    "    # Map target numbers to species names\n",
    "    iris_df['species_name'] = iris_df['species'].map({i: name for i, name in enumerate(iris.target_names)})\n",
    "    \n",
    "    # Display the first few rows\n",
    "    print(iris_df['species'].sample(10))\n",
    "    return iris_df\n"
   ]
  },
  {
   "cell_type": "code",
   "execution_count": 75,
   "metadata": {},
   "outputs": [
    {
     "name": "stdout",
     "output_type": "stream",
     "text": [
      "123    2\n",
      "67     1\n",
      "76     1\n",
      "11     0\n",
      "25     0\n",
      "35     0\n",
      "27     0\n",
      "80     1\n",
      "83     1\n",
      "85     1\n",
      "Name: species, dtype: int32\n"
     ]
    },
    {
     "data": {
      "text/plain": [
       "species\n",
       "0    50\n",
       "1    50\n",
       "2    50\n",
       "Name: count, dtype: int64"
      ]
     },
     "execution_count": 75,
     "metadata": {},
     "output_type": "execute_result"
    }
   ],
   "source": [
    "iris_df=load_iris_def()\n",
    "iris_df.species.value_counts()\n",
    "\n"
   ]
  },
  {
   "cell_type": "code",
   "execution_count": null,
   "metadata": {},
   "outputs": [],
   "source": [
    "class Logger:\n",
    "    def shape(self):\n",
    "        print(self.output_row.shape)\n",
    "    def shape_weight_bias():\n",
    "        print(self.weights_bias.shape)\n",
    "class DenseLayer(Logger):\n",
    "    def __init__(self, n_input,n_neuron):\n",
    "        self.weights_bias = np.random.randn(n_input+1,n_neuron) *0.1 #last row is bias\n",
    "    def  forward(self,input_row):\n",
    "        self.output_row=np.dot(input_row,self.weights_bias[:-1])+self.weights_bias[-1]\n",
    "class ReLu(Logger):\n",
    "    def __init__(self,input):\n",
    "        self.output_row=np.maximum(0,input)\n",
    "    def output(self):\n",
    "        return self.output_row\n",
    "class SoftMax(Logger):\n",
    "    def __init__(self,input):\n",
    "        self.e_x = np.exp(input - np.max(input))\n",
    "        self.output_row= self.e_x / self.e_x.sum(axis=0)\n",
    "    def output(self):\n",
    "        return self.output_row\n",
    "class LossCross(Logger):\n",
    "    def __init__(self,y:np.array,yhat:np.array):\n",
    "        e=np.exp(1)**-15 #epsilon avoid log(0)\n",
    "        self.output_row=0\n",
    "        for i,j in zip(y,yhat):\n",
    "            self.output_row+=i*np.log(j+e)\n",
    "        self.output_row*=-1\n",
    "    def output(self):\n",
    "        return self.output_row"
   ]
  },
  {
   "cell_type": "code",
   "execution_count": 91,
   "metadata": {},
   "outputs": [
    {
     "name": "stdout",
     "output_type": "stream",
     "text": [
      "(150, 20)\n",
      "(150, 20)\n",
      "(150, 9)\n",
      "(150, 9)\n",
      "(150, 3)\n",
      "(150, 3)\n",
      "(150, 3)\n"
     ]
    },
    {
     "data": {
      "text/plain": [
       "<bound method LossCross.output of <__main__.LossCross object at 0x00000261597FA310>>"
      ]
     },
     "execution_count": 91,
     "metadata": {},
     "output_type": "execute_result"
    }
   ],
   "source": [
    "dense1=DenseLayer(4,20)\n",
    "dense2=DenseLayer(20,9)\n",
    "dense3=DenseLayer(9,3)\n",
    "\n",
    "\n",
    "dense1.forward(iris_df.iloc[:,:4])\n",
    "dense1.shape()\n",
    "\n",
    "\n",
    "relu1=ReLu(dense1.output_row)\n",
    "relu1.shape()\n",
    "\n",
    "\n",
    "dense2.forward(relu1.output_row)\n",
    "dense2.shape()\n",
    "\n",
    "relu2=ReLu(dense2.output_row)\n",
    "relu2.shape()\n",
    "\n",
    "dense3.forward(relu2.output_row)\n",
    "dense3.shape()\n",
    "\n",
    "relu3=ReLu(dense3.output_row)\n",
    "relu3.shape()\n",
    "\n",
    "\n",
    "\n",
    "soft4=SoftMax(relu3.output_row)\n",
    "soft4.shape()\n",
    "output=np.argmax(soft4.output(), axis=1)\n",
    "loss=LossCross(iris_df.species,output)\n",
    "loss.output\n",
    "\n"
   ]
  },
  {
   "cell_type": "code",
   "execution_count": null,
   "metadata": {},
   "outputs": [],
   "source": []
  }
 ],
 "metadata": {
  "kernelspec": {
   "display_name": ".venv",
   "language": "python",
   "name": "python3"
  },
  "language_info": {
   "codemirror_mode": {
    "name": "ipython",
    "version": 3
   },
   "file_extension": ".py",
   "mimetype": "text/x-python",
   "name": "python",
   "nbconvert_exporter": "python",
   "pygments_lexer": "ipython3",
   "version": "3.9.13"
  }
 },
 "nbformat": 4,
 "nbformat_minor": 2
}
